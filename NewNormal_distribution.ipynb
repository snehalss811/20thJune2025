{
  "cells": [
    {
      "cell_type": "code",
      "source": [
        "from scipy import stats"
      ],
      "metadata": {
        "id": "5b1jessoWf2Y"
      },
      "id": "5b1jessoWf2Y",
      "execution_count": 2,
      "outputs": []
    },
    {
      "cell_type": "code",
      "source": [
        "stats.norm.cdf(70,60,10)"
      ],
      "metadata": {
        "colab": {
          "base_uri": "https://localhost:8080/"
        },
        "id": "gb6jRyy1WlTZ",
        "outputId": "e832ad91-41f5-41e5-f1c4-29dd3c7d302c"
      },
      "id": "gb6jRyy1WlTZ",
      "execution_count": null,
      "outputs": [
        {
          "output_type": "execute_result",
          "data": {
            "text/plain": [
              "np.float64(0.8413447460685429)"
            ]
          },
          "metadata": {},
          "execution_count": 4
        }
      ]
    },
    {
      "cell_type": "code",
      "source": [
        "1 - stats.norm.cdf(70,60,10)"
      ],
      "metadata": {
        "colab": {
          "base_uri": "https://localhost:8080/"
        },
        "id": "JH0qguGrWyn1",
        "outputId": "f331915d-db78-4e8d-fe9d-e2a26b7e69ea"
      },
      "id": "JH0qguGrWyn1",
      "execution_count": null,
      "outputs": [
        {
          "output_type": "execute_result",
          "data": {
            "text/plain": [
              "np.float64(0.15865525393145707)"
            ]
          },
          "metadata": {},
          "execution_count": 5
        }
      ]
    },
    {
      "cell_type": "code",
      "source": [
        "stats.norm.cdf(680,711,29)"
      ],
      "metadata": {
        "colab": {
          "base_uri": "https://localhost:8080/"
        },
        "id": "IhevQY0qW1DJ",
        "outputId": "b40357e5-099b-4bfd-d076-f818d644f71d"
      },
      "id": "IhevQY0qW1DJ",
      "execution_count": null,
      "outputs": [
        {
          "output_type": "execute_result",
          "data": {
            "text/plain": [
              "np.float64(0.14254260383881612)"
            ]
          },
          "metadata": {},
          "execution_count": 6
        }
      ]
    },
    {
      "cell_type": "code",
      "source": [
        "1 - stats.norm.cdf(740,711,29)"
      ],
      "metadata": {
        "colab": {
          "base_uri": "https://localhost:8080/"
        },
        "id": "aKMog_-pW48_",
        "outputId": "5bc308d4-7751-4b15-8bdf-2f0aa18aa488"
      },
      "id": "aKMog_-pW48_",
      "execution_count": null,
      "outputs": [
        {
          "output_type": "execute_result",
          "data": {
            "text/plain": [
              "np.float64(0.15865525393145707)"
            ]
          },
          "metadata": {},
          "execution_count": 7
        }
      ]
    },
    {
      "cell_type": "code",
      "source": [
        "stats.norm.cdf(750,711,29)"
      ],
      "metadata": {
        "colab": {
          "base_uri": "https://localhost:8080/"
        },
        "id": "T2OOQsKqW726",
        "outputId": "58b83dbc-1e66-418c-fbf9-25c1abcde474"
      },
      "id": "T2OOQsKqW726",
      "execution_count": null,
      "outputs": [
        {
          "output_type": "execute_result",
          "data": {
            "text/plain": [
              "np.float64(0.9106595402534312)"
            ]
          },
          "metadata": {},
          "execution_count": 8
        }
      ]
    },
    {
      "cell_type": "code",
      "source": [
        "0.9106595402534312 - 0.14254260383881612"
      ],
      "metadata": {
        "colab": {
          "base_uri": "https://localhost:8080/"
        },
        "id": "F_DKO8IgXA1k",
        "outputId": "e257f445-d25d-4a34-d1e3-e376d12131b3"
      },
      "id": "F_DKO8IgXA1k",
      "execution_count": null,
      "outputs": [
        {
          "output_type": "execute_result",
          "data": {
            "text/plain": [
              "0.7681169364146151"
            ]
          },
          "metadata": {},
          "execution_count": 9
        }
      ]
    },
    {
      "cell_type": "markdown",
      "id": "741866b6",
      "metadata": {
        "id": "741866b6"
      },
      "source": [
        "# Normal distribution\n",
        "\n",
        "The annual salaries of employees in a large company are approximately normally distributed with a mean of $50,000 and a\n",
        "standard deviation of $10,000.\n",
        "\n",
        "a) What percent of people earn less than $60,000?\n",
        "![image-2.png](attachment:image-2.png)"
      ]
    },
    {
      "cell_type": "code",
      "execution_count": 4,
      "id": "b6ea988f",
      "metadata": {
        "id": "b6ea988f",
        "outputId": "65efe271-d92f-4dde-8db5-4b651288992a",
        "colab": {
          "base_uri": "https://localhost:8080/"
        }
      },
      "outputs": [
        {
          "output_type": "execute_result",
          "data": {
            "text/plain": [
              "np.float64(0.8413447460685429)"
            ]
          },
          "metadata": {},
          "execution_count": 4
        }
      ],
      "source": [
        "from scipy.stats import norm\n",
        "nd  = norm(50000,10000)\n",
        "# nd stores a frozen normal distribution object\n",
        "# It means that nd is an instance of a normal (Gaussian) distribution with:\n",
        "# mean = 50000 and Std = 10000\n",
        "# Internally, it is a rv_frozen object from SciPy,\n",
        "# which means it is a ready-to-use probability distribution where the parameters are fixed.\n",
        "# Now you can easily compute various functions like:\n",
        "# nd.std(), nd.mean(), nd.var(), nd.cdf(), nd.ppf(), etc\n",
        "\n",
        "x1 = nd.cdf(60000)\n",
        "x1\n"
      ]
    },
    {
      "cell_type": "code",
      "source": [
        "nd.mean() # try other functions"
      ],
      "metadata": {
        "colab": {
          "base_uri": "https://localhost:8080/"
        },
        "id": "7taSPkLgJf67",
        "outputId": "6c44bac8-0ae4-4cd8-ef25-6efde3134887"
      },
      "id": "7taSPkLgJf67",
      "execution_count": 9,
      "outputs": [
        {
          "output_type": "execute_result",
          "data": {
            "text/plain": [
              "np.float64(50000.0)"
            ]
          },
          "metadata": {},
          "execution_count": 9
        }
      ]
    },
    {
      "cell_type": "code",
      "source": [
        "# Same thing can be achieved using cdf()\n",
        "stats.norm.cdf(60000,50000,10000)"
      ],
      "metadata": {
        "colab": {
          "base_uri": "https://localhost:8080/"
        },
        "id": "O5LOLy7QIG5T",
        "outputId": "a51f954d-cf14-42ec-8527-7ad820525e0f"
      },
      "id": "O5LOLy7QIG5T",
      "execution_count": 3,
      "outputs": [
        {
          "output_type": "execute_result",
          "data": {
            "text/plain": [
              "np.float64(0.8413447460685429)"
            ]
          },
          "metadata": {},
          "execution_count": 3
        }
      ]
    },
    {
      "cell_type": "markdown",
      "source": [
        "This means there's an 84.13% chance that a value from this distribution is less than or equal to 60,000."
      ],
      "metadata": {
        "id": "bnXRVrGfWJAo"
      },
      "id": "bnXRVrGfWJAo"
    },
    {
      "cell_type": "markdown",
      "id": "6d2f7b2f",
      "metadata": {
        "id": "6d2f7b2f"
      },
      "source": [
        "# Example 2\n",
        "A radar unit is used to measure speeds of cars on a highway. The speeds are normally distributed with a mean of 90 km/hr and a standard deviation of 10 km/hr.\n",
        "What is the probability that a car picked at random is travelling at more than 100 km/hr?\n",
        "![image.png](attachment:image.png)"
      ]
    },
    {
      "cell_type": "code",
      "execution_count": null,
      "id": "263d5f0e",
      "metadata": {
        "id": "263d5f0e",
        "outputId": "d511b03e-16ff-4a87-a580-83b1d0afba72"
      },
      "outputs": [
        {
          "data": {
            "text/plain": [
              "0.15865525393145707"
            ]
          },
          "execution_count": 2,
          "metadata": {},
          "output_type": "execute_result"
        }
      ],
      "source": [
        "from scipy.stats import norm\n",
        "nd  = norm(90,10)\n",
        "\n",
        "x2 = 1 - nd.cdf(100)\n",
        "x2"
      ]
    },
    {
      "cell_type": "markdown",
      "id": "58280245",
      "metadata": {
        "id": "58280245"
      },
      "source": [
        "# Example 3\n",
        "\n",
        "\n",
        "For a certain type of mobiles, the length of time between charges of the battery is normally distributed with a mean of 10 hours and a standard deviation of 20 minutes. John owns one of these mobiles and wants to know the probability that the length of time will be between 10 and 11 hours.\n",
        "\n",
        "![image.png](attachment:image.png)"
      ]
    },
    {
      "cell_type": "code",
      "execution_count": null,
      "id": "bbc4a556",
      "metadata": {
        "id": "bbc4a556",
        "outputId": "e7fd3e85-a13b-434f-94f2-b236e971a82a"
      },
      "outputs": [
        {
          "data": {
            "text/plain": [
              "0.4986501019683699"
            ]
          },
          "execution_count": 3,
          "metadata": {},
          "output_type": "execute_result"
        }
      ],
      "source": [
        "from scipy.stats import norm\n",
        "nd  = norm(600,20)\n",
        "\n",
        "x3 = nd.cdf(660) - nd.cdf(600)\n",
        "x3"
      ]
    },
    {
      "cell_type": "code",
      "execution_count": null,
      "id": "2f497057",
      "metadata": {
        "id": "2f497057"
      },
      "outputs": [],
      "source": []
    }
  ],
  "metadata": {
    "kernelspec": {
      "display_name": "Python 3 (ipykernel)",
      "language": "python",
      "name": "python3"
    },
    "language_info": {
      "codemirror_mode": {
        "name": "ipython",
        "version": 3
      },
      "file_extension": ".py",
      "mimetype": "text/x-python",
      "name": "python",
      "nbconvert_exporter": "python",
      "pygments_lexer": "ipython3",
      "version": "3.11.5"
    },
    "colab": {
      "provenance": []
    }
  },
  "nbformat": 4,
  "nbformat_minor": 5
}